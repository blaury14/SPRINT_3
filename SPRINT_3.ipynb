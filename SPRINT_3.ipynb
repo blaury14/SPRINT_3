{
 "cells": [
  {
   "cell_type": "markdown",
   "id": "a1e94134",
   "metadata": {},
   "source": [
    "# ¡Hola, Bastian!  \n",
    "\n",
    "Mi nombre es Carlos Ortiz, soy code reviewer de TripleTen y voy a revisar el proyecto que acabas de desarrollar.\n",
    "\n",
    "Cuando vea un error la primera vez, lo señalaré. Deberás encontrarlo y arreglarlo. La intención es que te prepares para un espacio real de trabajo. En un trabajo, el líder de tu equipo hará lo mismo. Si no puedes solucionar el error, te daré más información en la próxima ocasión. \n",
    "\n",
    "Encontrarás mis comentarios más abajo - **por favor, no los muevas, no los modifiques ni los borres**.\n",
    "\n",
    "¿Cómo lo voy a hacer? Voy a leer detenidamente cada una de las implementaciones que has llevado a cabo para cumplir con lo solicitado. Verás los comentarios de esta forma:\n",
    "\n",
    "<div class=\"alert alert-block alert-success\">\n",
    "<b>Comentario del revisor</b> <a class=\"tocSkip\"></a>\n",
    "    \n",
    "Si todo está perfecto.\n",
    "</div>\n",
    "\n",
    "\n",
    "<div class=\"alert alert-block alert-warning\">\n",
    "<b>Comentario del revisor</b> <a class=\"tocSkip\"></a>\n",
    "    \n",
    "Si tu código está bien pero se puede mejorar o hay algún detalle que le hace falta.\n",
    "</div>\n",
    "\n",
    "\n",
    "<div class=\"alert alert-block alert-danger\">\n",
    "    \n",
    "<b>Comentario del revisor</b> <a class=\"tocSkip\"></a>\n",
    "    \n",
    "    \n",
    "Si de pronto hace falta algo o existe algún problema con tu código o conclusiones.\n",
    "</div>\n",
    "\n",
    "\n",
    "Puedes responderme de esta forma: \n",
    "\n",
    "\n",
    "<div class=\"alert alert-block alert-info\">\n",
    "<b>Respuesta del estudiante</b> <a class=\"tocSkip\"></a>\n",
    "</div>\n",
    "¡Empecemos!"
   ]
  },
  {
   "cell_type": "markdown",
   "id": "3Xg_RQfnafXz",
   "metadata": {
    "id": "3Xg_RQfnafXz"
   },
   "source": [
    "# ¡Llena ese carrito!"
   ]
  },
  {
   "cell_type": "markdown",
   "id": "mhIvmmkW414q",
   "metadata": {
    "id": "mhIvmmkW414q"
   },
   "source": [
    "# Introducción\n",
    "\n",
    "Instacart es una plataforma de entregas de comestibles donde la clientela puede registrar un pedido y hacer que se lo entreguen, similar a Uber Eats y Door Dash.\n",
    "El conjunto de datos que te hemos proporcionado tiene modificaciones del original. Redujimos el tamaño del conjunto para que tus cálculos se hicieran más rápido e introdujimos valores ausentes y duplicados. Tuvimos cuidado de conservar las distribuciones de los datos originales cuando hicimos los cambios.\n",
    "\n",
    "Debes completar tres pasos. Para cada uno de ellos, escribe una breve introducción que refleje con claridad cómo pretendes resolver cada paso, y escribe párrafos explicatorios que justifiquen tus decisiones al tiempo que avanzas en tu solución.  También escribe una conclusión que resuma tus hallazgos y elecciones.\n"
   ]
  },
  {
   "cell_type": "markdown",
   "id": "3MbyzpOQZ5Or",
   "metadata": {
    "id": "3MbyzpOQZ5Or"
   },
   "source": [
    "## Diccionario de datos\n",
    "\n",
    "Hay cinco tablas en el conjunto de datos, y tendrás que usarlas todas para hacer el preprocesamiento de datos y el análisis exploratorio de datos. A continuación se muestra un diccionario de datos que enumera las columnas de cada tabla y describe los datos que contienen.\n",
    "\n",
    "- `instacart_orders.csv`: cada fila corresponde a un pedido en la aplicación Instacart.\n",
    "    - `'order_id'`: número de ID que identifica de manera única cada pedido.\n",
    "    - `'user_id'`: número de ID que identifica de manera única la cuenta de cada cliente.\n",
    "    - `'order_number'`: el número de veces que este cliente ha hecho un pedido.\n",
    "    - `'order_dow'`: día de la semana en que se hizo el pedido (0 si es domingo).\n",
    "    - `'order_hour_of_day'`: hora del día en que se hizo el pedido.\n",
    "    - `'days_since_prior_order'`: número de días transcurridos desde que este cliente hizo su pedido anterior.\n",
    "- `products.csv`: cada fila corresponde a un producto único que pueden comprar los clientes.\n",
    "    - `'product_id'`: número ID que identifica de manera única cada producto.\n",
    "    - `'product_name'`: nombre del producto.\n",
    "    - `'aisle_id'`: número ID que identifica de manera única cada categoría de pasillo de víveres.\n",
    "    - `'department_id'`: número ID que identifica de manera única cada departamento de víveres.\n",
    "- `order_products.csv`: cada fila corresponde a un artículo pedido en un pedido.\n",
    "    - `'order_id'`: número de ID que identifica de manera única cada pedido.\n",
    "    - `'product_id'`: número ID que identifica de manera única cada producto.\n",
    "    - `'add_to_cart_order'`: el orden secuencial en el que se añadió cada artículo en el carrito.\n",
    "    - `'reordered'`: 0 si el cliente nunca ha pedido este producto antes, 1 si lo ha pedido.\n",
    "- `aisles.csv`\n",
    "    - `'aisle_id'`: número ID que identifica de manera única cada categoría de pasillo de víveres.\n",
    "    - `'aisle'`: nombre del pasillo.\n",
    "- `departments.csv`\n",
    "    - `'department_id'`: número ID que identifica de manera única cada departamento de víveres.\n",
    "    - `'department'`: nombre del departamento."
   ]
  },
  {
   "cell_type": "markdown",
   "id": "n3Ha_cNSZ8lK",
   "metadata": {
    "id": "n3Ha_cNSZ8lK"
   },
   "source": [
    "# Paso 1. Descripción de los datos\n",
    "\n",
    "Lee los archivos de datos (`/datasets/instacart_orders.csv`, `/datasets/products.csv`, `/datasets/aisles.csv`, `/datasets/departments.csv` y `/datasets/order_products.csv`) con `pd.read_csv()` usando los parámetros adecuados para leer los datos correctamente. Verifica la información para cada DataFrame creado.\n"
   ]
  },
  {
   "cell_type": "markdown",
   "id": "OmlQPLlyaAfR",
   "metadata": {
    "id": "OmlQPLlyaAfR"
   },
   "source": [
    "## Plan de solución\n",
    "\n",
    "Escribe aquí tu plan de solución para el Paso 1. Descripción de los datos."
   ]
  },
  {
   "cell_type": "code",
   "execution_count": 1,
   "id": "fbf1adab",
   "metadata": {
    "id": "fbf1adab"
   },
   "outputs": [],
   "source": [
    "import matplotlib.pyplot as plt #importo libreria de histograma de graficos para seccion 7\n",
    "import pandas as pd #importo libreria pandas para acceder al .csv"
   ]
  },
  {
   "cell_type": "markdown",
   "id": "4b215dba",
   "metadata": {},
   "source": [
    "<div class=\"alert alert-block alert-info\">\n",
    "<b>Las 2 librerias usadas a lo largo del proyecto fueron cargadas aca.</b> <a class=\"tocSkip\"></a>\n",
    "</div>"
   ]
  },
  {
   "cell_type": "code",
   "execution_count": 2,
   "id": "ad36396d",
   "metadata": {
    "id": "ad36396d"
   },
   "outputs": [],
   "source": [
    "orders = pd.read_csv('/datasets/instacart_orders.csv', delimiter=';') \n",
    "products = pd.read_csv('/datasets/products.csv', delimiter=';')\n",
    "aisles = pd.read_csv('/datasets/aisles.csv', delimiter=';')\n",
    "departments = pd.read_csv('/datasets/departments.csv', delimiter=';')\n",
    "order_products = pd.read_csv('/datasets/order_products.csv', delimiter=';')# leer conjuntos de datos en los DataFrames"
   ]
  },
  {
   "cell_type": "markdown",
   "id": "c01bef57",
   "metadata": {},
   "source": [
    "<div class=\"alert alert-block alert-success\">\n",
    "<b>Comentario del revisor</b> <a class=\"tocSkip\"></a>\n",
    "    \n",
    "Buen trabajo con la importación de datos y de librerías.\n",
    "</div>\n"
   ]
  },
  {
   "cell_type": "code",
   "execution_count": 3,
   "id": "ad6a1efa",
   "metadata": {
    "id": "ad6a1efa"
   },
   "outputs": [
    {
     "name": "stdout",
     "output_type": "stream",
     "text": [
      "<class 'pandas.core.frame.DataFrame'>\n",
      "RangeIndex: 478967 entries, 0 to 478966\n",
      "Data columns (total 6 columns):\n",
      " #   Column                  Non-Null Count   Dtype  \n",
      "---  ------                  --------------   -----  \n",
      " 0   order_id                478967 non-null  int64  \n",
      " 1   user_id                 478967 non-null  int64  \n",
      " 2   order_number            478967 non-null  int64  \n",
      " 3   order_dow               478967 non-null  int64  \n",
      " 4   order_hour_of_day       478967 non-null  int64  \n",
      " 5   days_since_prior_order  450148 non-null  float64\n",
      "dtypes: float64(1), int64(5)\n",
      "memory usage: 21.9 MB\n",
      "None\n"
     ]
    }
   ],
   "source": [
    "print(orders.info())# mostrar información del DataFrame"
   ]
  },
  {
   "cell_type": "code",
   "execution_count": 4,
   "id": "5130e05e",
   "metadata": {
    "id": "5130e05e"
   },
   "outputs": [
    {
     "name": "stdout",
     "output_type": "stream",
     "text": [
      "<class 'pandas.core.frame.DataFrame'>\n",
      "RangeIndex: 49694 entries, 0 to 49693\n",
      "Data columns (total 4 columns):\n",
      " #   Column         Non-Null Count  Dtype \n",
      "---  ------         --------------  ----- \n",
      " 0   product_id     49694 non-null  int64 \n",
      " 1   product_name   48436 non-null  object\n",
      " 2   aisle_id       49694 non-null  int64 \n",
      " 3   department_id  49694 non-null  int64 \n",
      "dtypes: int64(3), object(1)\n",
      "memory usage: 1.5+ MB\n",
      "None\n"
     ]
    }
   ],
   "source": [
    "print(products.info())# mostrar información del DataFrame"
   ]
  },
  {
   "cell_type": "code",
   "execution_count": 5,
   "id": "d8370c05",
   "metadata": {
    "id": "d8370c05"
   },
   "outputs": [
    {
     "name": "stdout",
     "output_type": "stream",
     "text": [
      "<class 'pandas.core.frame.DataFrame'>\n",
      "RangeIndex: 134 entries, 0 to 133\n",
      "Data columns (total 2 columns):\n",
      " #   Column    Non-Null Count  Dtype \n",
      "---  ------    --------------  ----- \n",
      " 0   aisle_id  134 non-null    int64 \n",
      " 1   aisle     134 non-null    object\n",
      "dtypes: int64(1), object(1)\n",
      "memory usage: 2.2+ KB\n",
      "None\n"
     ]
    }
   ],
   "source": [
    "print(aisles.info())# mostrar información del DataFrame"
   ]
  },
  {
   "cell_type": "code",
   "execution_count": 6,
   "id": "59e2090f",
   "metadata": {
    "id": "59e2090f"
   },
   "outputs": [
    {
     "name": "stdout",
     "output_type": "stream",
     "text": [
      "<class 'pandas.core.frame.DataFrame'>\n",
      "RangeIndex: 21 entries, 0 to 20\n",
      "Data columns (total 2 columns):\n",
      " #   Column         Non-Null Count  Dtype \n",
      "---  ------         --------------  ----- \n",
      " 0   department_id  21 non-null     int64 \n",
      " 1   department     21 non-null     object\n",
      "dtypes: int64(1), object(1)\n",
      "memory usage: 464.0+ bytes\n",
      "None\n"
     ]
    }
   ],
   "source": [
    "print(departments.info())# mostrar información del DataFrame"
   ]
  },
  {
   "cell_type": "code",
   "execution_count": 7,
   "id": "6fc81694",
   "metadata": {
    "id": "6fc81694"
   },
   "outputs": [
    {
     "name": "stdout",
     "output_type": "stream",
     "text": [
      "<class 'pandas.core.frame.DataFrame'>\n",
      "RangeIndex: 4545007 entries, 0 to 4545006\n",
      "Data columns (total 4 columns):\n",
      " #   Column             Non-Null Count    Dtype  \n",
      "---  ------             --------------    -----  \n",
      " 0   order_id           4545007 non-null  int64  \n",
      " 1   product_id         4545007 non-null  int64  \n",
      " 2   add_to_cart_order  4544171 non-null  float64\n",
      " 3   reordered          4545007 non-null  int64  \n",
      "dtypes: float64(1), int64(3)\n",
      "memory usage: 138.7 MB\n",
      "None\n"
     ]
    }
   ],
   "source": [
    "print(order_products.info(show_counts=True))# mostrar información del DataFrame"
   ]
  },
  {
   "cell_type": "markdown",
   "id": "t75BD19oaR5f",
   "metadata": {
    "id": "t75BD19oaR5f"
   },
   "source": [
    "## Conclusiones\n",
    "\n",
    "Los archivos CSV tienen un problema de formato con el delimitador (;), lo que causa que las funciones de lectura de Pandas no reconozcan correctamente las columnas. Los DataFrames resultantes presentan una sola columna que contiene todas las demás, como se muestra en las impresiones de 'info()'. Para solucionarlo, reescribi inicialmente el codigo para que al leer los archivos CSV especificando el delimitador correcto mediante el parámetro 'delimiter' en 'pd.read_csv()'.\n",
    "\n",
    "Solucionado el tema del delimitador puedo concluir de los datos mostrados:\n",
    "\n",
    "Orders DataFrame:\n",
    "* 478,967 entradas\n",
    "* 6 columnas: order_id, user_id, order_number, order_dow, order_hour_of_day, days_since_prior_order\n",
    "* Contiene valores nulos en la columna 'days_since_prior_order'.\n",
    "\n",
    "Products DataFrame:\n",
    "* 49,694 entradas\n",
    "* 4 columnas: product_id, product_name, aisle_id, department_id\n",
    "* Contiene valores nulos en la columna 'product_name'.\n",
    "\n",
    "Aisles DataFrame:\n",
    "* 134 entradas\n",
    "* 2 columnas: aisle_id, aisle\n",
    "\n",
    "Departments DataFrame:\n",
    "* 21 entradas\n",
    "* 2 columnas: department_id, department\n",
    "\n",
    "Order_Products DataFrame:\n",
    "* 4,545,007 entradas\n",
    "* 4 columnas: order_id, product_id, add_to_cart_order, reordered\n",
    "* Contiene valores nulos en la columna 'add_to_cart_order'.\n",
    "\n",
    "Las inferencias posibles incluyen:\n",
    "* Hay valores nulos en las columnas 'days_since_prior_order', 'product_name' y 'add_to_cart_order'.\n",
    "* El conjunto de datos de pedidos (orders) contiene información sobre la frecuencia de pedidos por día y hora, así como la historia de pedidos anteriores.\n",
    "* El conjunto de datos de productos (products) proporciona información sobre los productos, incluidos su nombre, aisle_id y department_id.\n",
    "* Los conjuntos de datos de aisles (aisles) y departments (departments) contienen información sobre las categorías de pasillos y departamentos.\n",
    "* El conjunto de datos de order_products (order_products) contiene información sobre los productos en cada pedido, incluido el orden de agregado al carrito y si el producto fue vuelto a pedir."
   ]
  },
  {
   "cell_type": "markdown",
   "id": "cc7290f5",
   "metadata": {},
   "source": [
    " <div class=\"alert alert-block alert-success\">\n",
    "<b>Comentario del revisor</b> <a class=\"tocSkip\"></a>\n",
    "    \n",
    "Has hecho bien con esta exploración inicial de datos y la lectura inicial de los problemas.\n",
    "</div>"
   ]
  },
  {
   "cell_type": "markdown",
   "id": "8RJHqxVmaVsF",
   "metadata": {
    "id": "8RJHqxVmaVsF"
   },
   "source": [
    "# Paso 2. Preprocesamiento de los datos\n",
    "\n",
    "Preprocesa los datos de la siguiente manera:\n",
    "\n",
    "- Verifica y corrige los tipos de datos (por ejemplo, asegúrate de que las columnas de ID sean números enteros).\n",
    "- Identifica y completa los valores ausentes.\n",
    "- Identifica y elimina los valores duplicados.\n",
    "\n",
    "Asegúrate de explicar qué tipos de valores ausentes y duplicados encontraste, cómo los completaste o eliminaste y por qué usaste esos métodos. ¿Por qué crees que estos valores ausentes y duplicados pueden haber estado presentes en el conjunto de datos?"
   ]
  },
  {
   "cell_type": "markdown",
   "id": "p6poABZQaZYb",
   "metadata": {
    "id": "p6poABZQaZYb"
   },
   "source": [
    "## Plan de solución\n",
    "\n",
    "* Verifica y corrige los tipos de datos: \n",
    "Vamos a verificar y corregir los tipos de datos de las columnas, asegurándonos de que las columnas de ID sean números enteros y manejando adecuadamente otras conversiones de tipo según sea necesario.Utilizaremos el método 'pd.to_numeric()' de pandas. \n",
    "\n",
    "* Identifica y completa los valores ausentes: \n",
    "Revisaremos cada DataFrame en busca de valores ausentes y decidiremos cómo abordarlos. Dependiendo del contexto, podríamos optar por eliminar filas con valores ausentes, imputar valores utilizando medias o modas, o utilizar otras estrategias según sea necesario.Utilizaremos el método 'isnull()'\n",
    "\n",
    "* Identifica y elimina los valores duplicados: \n",
    "Para cada DataFrame, buscaremos y eliminaremos valores duplicados, asegurándonos de mantener únicamente las filas únicas.Utilizaremos el método 'duplicated()' de pandas y luego utilizar el método 'drop_duplicates()' para eliminar las filas duplicadas. "
   ]
  },
  {
   "cell_type": "markdown",
   "id": "07357848-dc64-4156-9cc3-01ff4365226d",
   "metadata": {
    "id": "07357848-dc64-4156-9cc3-01ff4365226d"
   },
   "source": [
    "## Encuentra y elimina los valores duplicados (y describe cómo tomaste tus decisiones)."
   ]
  },
  {
   "cell_type": "markdown",
   "id": "f179f0a9",
   "metadata": {
    "id": "f179f0a9"
   },
   "source": [
    "### `orders` data frame"
   ]
  },
  {
   "cell_type": "code",
   "execution_count": 8,
   "id": "b99297a5-405a-463d-8535-9adc3da4ad74",
   "metadata": {
    "id": "b99297a5-405a-463d-8535-9adc3da4ad74"
   },
   "outputs": [
    {
     "name": "stdout",
     "output_type": "stream",
     "text": [
      "        order_id  user_id  order_number  order_dow  order_hour_of_day  \\\n",
      "145574    794638    50898            24          3                  2   \n",
      "223105   2160484   107525            16          3                  2   \n",
      "230807   1918001   188546            14          3                  2   \n",
      "266232   1782114   106752             1          3                  2   \n",
      "273805   1112182   202304            84          3                  2   \n",
      "284038   2845099    31189            11          3                  2   \n",
      "311713   1021560    53767             3          3                  2   \n",
      "321100    408114    68324             4          3                  2   \n",
      "323900   1919531   191501            32          3                  2   \n",
      "345917   2232988    82565             1          3                  2   \n",
      "371905    391768    57671            19          3                  2   \n",
      "394347    467134    63189            21          3                  2   \n",
      "411408   1286742   183220            48          3                  2   \n",
      "415163   2282673    86751            49          3                  2   \n",
      "441599   2125197    14050            48          3                  2   \n",
      "\n",
      "        days_since_prior_order  \n",
      "145574                     2.0  \n",
      "223105                    30.0  \n",
      "230807                    16.0  \n",
      "266232                     NaN  \n",
      "273805                     6.0  \n",
      "284038                     7.0  \n",
      "311713                     9.0  \n",
      "321100                    18.0  \n",
      "323900                     7.0  \n",
      "345917                     NaN  \n",
      "371905                    10.0  \n",
      "394347                     2.0  \n",
      "411408                     4.0  \n",
      "415163                     2.0  \n",
      "441599                     3.0  \n"
     ]
    }
   ],
   "source": [
    "duplicate_orders = orders[orders.duplicated()]\n",
    "print(duplicate_orders)"
   ]
  },
  {
   "cell_type": "markdown",
   "id": "PEkwUX_gvt5A",
   "metadata": {
    "id": "PEkwUX_gvt5A"
   },
   "source": [
    "¿Tienes líneas duplicadas? Si sí, ¿qué tienen en común?\n",
    "* todas estas columnas tienen los mismos valores en ambas filas duplicadas."
   ]
  },
  {
   "cell_type": "code",
   "execution_count": 9,
   "id": "0d44de5d",
   "metadata": {
    "id": "0d44de5d"
   },
   "outputs": [
    {
     "name": "stdout",
     "output_type": "stream",
     "text": [
      "        order_id  user_id  order_number  order_dow  order_hour_of_day  \\\n",
      "4838     2766110   162084            41          3                  2   \n",
      "5156     2190225   138285            18          3                  2   \n",
      "15506     553049    58599            13          3                  2   \n",
      "18420     382357   120200            19          3                  2   \n",
      "24691     690242    77357             2          3                  2   \n",
      "...          ...      ...           ...        ...                ...   \n",
      "457013   3384021    14881             6          3                  2   \n",
      "458816    910166   164782            18          3                  2   \n",
      "459635   1680532   106435             6          3                  2   \n",
      "468324    222962    54979            59          3                  2   \n",
      "477526   2592344    46860            38          3                  2   \n",
      "\n",
      "        days_since_prior_order  \n",
      "4838                      16.0  \n",
      "5156                      11.0  \n",
      "15506                      7.0  \n",
      "18420                     11.0  \n",
      "24691                      9.0  \n",
      "...                        ...  \n",
      "457013                    30.0  \n",
      "458816                     4.0  \n",
      "459635                    21.0  \n",
      "468324                     3.0  \n",
      "477526                     3.0  \n",
      "\n",
      "[121 rows x 6 columns]\n"
     ]
    }
   ],
   "source": [
    "# Basándote en tus hallazgos,\n",
    "# Verifica todos los pedidos que se hicieron el miércoles a las 2:00 a.m\n",
    "wednesday_2am_orders = orders[(orders['order_dow'] == 3) & (orders['order_hour_of_day'] == 2)]\n",
    "print(wednesday_2am_orders)"
   ]
  },
  {
   "cell_type": "markdown",
   "id": "vu2OWyoqwOx5",
   "metadata": {
    "id": "vu2OWyoqwOx5"
   },
   "source": [
    "¿Qué sugiere este resultado?\n",
    "* que hay filas duplicadas en el conjunto de datos de pedidos '(orders)'. Cada fila representa un pedido, y las filas duplicadas tienen exactamente los mismos valores en todas las columnas"
   ]
  },
  {
   "cell_type": "code",
   "execution_count": 10,
   "id": "480563c7",
   "metadata": {
    "id": "480563c7"
   },
   "outputs": [],
   "source": [
    "# Elimina los pedidos duplicados\n",
    "orders = orders.drop_duplicates().reset_index(drop=True)"
   ]
  },
  {
   "cell_type": "markdown",
   "id": "5ce95ab0",
   "metadata": {},
   "source": [
    "<div class=\"alert alert-block alert-info\">\n",
    "<b>hecho</b> <a class=\"tocSkip\"></a>\n",
    "</div>"
   ]
  },
  {
   "cell_type": "code",
   "execution_count": 11,
   "id": "0b2396a2",
   "metadata": {
    "id": "0b2396a2"
   },
   "outputs": [
    {
     "name": "stdout",
     "output_type": "stream",
     "text": [
      "Empty DataFrame\n",
      "Columns: [order_id, user_id, order_number, order_dow, order_hour_of_day, days_since_prior_order]\n",
      "Index: []\n"
     ]
    }
   ],
   "source": [
    "# Vuelve a verificar si hay filas duplicadas\n",
    "print(orders[orders.duplicated()])"
   ]
  },
  {
   "cell_type": "code",
   "execution_count": 12,
   "id": "f6113ef1",
   "metadata": {
    "id": "f6113ef1"
   },
   "outputs": [
    {
     "name": "stdout",
     "output_type": "stream",
     "text": [
      "Empty DataFrame\n",
      "Columns: [order_id, user_id, order_number, order_dow, order_hour_of_day, days_since_prior_order]\n",
      "Index: []\n"
     ]
    }
   ],
   "source": [
    "# Vuelve a verificar únicamente si hay IDs duplicados de pedidos\n",
    "duplicates_order_id = orders[orders.duplicated('order_id', keep=False)]\n",
    "print(duplicates_order_id[['order_id', 'user_id', 'order_number', 'order_dow', 'order_hour_of_day', 'days_since_prior_order']])"
   ]
  },
  {
   "cell_type": "markdown",
   "id": "5e8905ae",
   "metadata": {
    "id": "5e8905ae"
   },
   "source": [
    "Describe brevemente tus hallazgos y lo que hiciste con ellos:\n",
    "\n",
    "* Eliminé filas duplicadas en el conjunto de datos de pedidos y examiné los pedidos realizados el miércoles a las 2:00 a.m. para entender mejor el comportamiento de compra en ese momento específico."
   ]
  },
  {
   "cell_type": "markdown",
   "id": "45e6bc46",
   "metadata": {
    "id": "45e6bc46"
   },
   "source": [
    "### `products` data frame"
   ]
  },
  {
   "cell_type": "code",
   "execution_count": 13,
   "id": "5f526b5b-8175-46fa-a0fd-441767d50e64",
   "metadata": {
    "id": "5f526b5b-8175-46fa-a0fd-441767d50e64"
   },
   "outputs": [
    {
     "name": "stdout",
     "output_type": "stream",
     "text": [
      "Empty DataFrame\n",
      "Columns: [product_id, product_name, aisle_id, department_id]\n",
      "Index: []\n"
     ]
    }
   ],
   "source": [
    "# Verifica si hay filas totalmente duplicadas\n",
    "duplicate_rows = products[products.duplicated()]\n",
    "print(duplicate_rows)"
   ]
  },
  {
   "cell_type": "code",
   "execution_count": 14,
   "id": "88daa4f4",
   "metadata": {
    "id": "88daa4f4"
   },
   "outputs": [
    {
     "name": "stdout",
     "output_type": "stream",
     "text": [
      "       department_id\n",
      "4                 13\n",
      "6                  7\n",
      "7                  1\n",
      "9                  7\n",
      "10                 7\n",
      "...              ...\n",
      "49689              7\n",
      "49690             14\n",
      "49691             14\n",
      "49692             11\n",
      "49693              1\n",
      "\n",
      "[49673 rows x 1 columns]\n"
     ]
    }
   ],
   "source": [
    "# Revisa únicamente si hay ID de departamentos duplicados\n",
    "duplicate_department_ids = products[products.duplicated(subset=['department_id'])]\n",
    "print(duplicate_department_ids[['department_id']])"
   ]
  },
  {
   "cell_type": "code",
   "execution_count": 15,
   "id": "c773f0bf",
   "metadata": {
    "id": "c773f0bf"
   },
   "outputs": [
    {
     "name": "stdout",
     "output_type": "stream",
     "text": [
      "                                          product_name\n",
      "71                                                 NaN\n",
      "109                                                NaN\n",
      "296                                                NaN\n",
      "416                                                NaN\n",
      "436                                                NaN\n",
      "...                                                ...\n",
      "49689                    HIGH PERFORMANCE ENERGY DRINK\n",
      "49690                    ORIGINAL PANCAKE & WAFFLE MIX\n",
      "49691  ORGANIC INSTANT OATMEAL LIGHT MAPLE BROWN SUGAR\n",
      "49692                           SPRING WATER BODY WASH\n",
      "49693                          BURRITO- STEAK & CHEESE\n",
      "\n",
      "[1361 rows x 1 columns]\n"
     ]
    }
   ],
   "source": [
    "# Revisa únicamente si hay nombres duplicados de productos (convierte los nombres a letras mayúsculas para compararlos mejor)\n",
    "products['product_name_upper'] = products['product_name'].str.upper()\n",
    "duplicate_product_names = products[products.duplicated(subset=['product_name_upper'])]\n",
    "print(duplicate_product_names[['product_name']])"
   ]
  },
  {
   "cell_type": "code",
   "execution_count": 16,
   "id": "01efd02e",
   "metadata": {
    "id": "01efd02e"
   },
   "outputs": [
    {
     "name": "stdout",
     "output_type": "stream",
     "text": [
      "                                          product_name\n",
      "2058                                   Biotin 1000 Mcg\n",
      "5455                  Green Tea With Ginseng and Honey\n",
      "5558                            Cream Of Mushroom Soup\n",
      "7558                         Cinnamon Rolls with Icing\n",
      "9037                            American Cheese slices\n",
      "...                                                ...\n",
      "49689                    HIGH PERFORMANCE ENERGY DRINK\n",
      "49690                    ORIGINAL PANCAKE & WAFFLE MIX\n",
      "49691  ORGANIC INSTANT OATMEAL LIGHT MAPLE BROWN SUGAR\n",
      "49692                           SPRING WATER BODY WASH\n",
      "49693                          BURRITO- STEAK & CHEESE\n",
      "\n",
      "[104 rows x 1 columns]\n"
     ]
    }
   ],
   "source": [
    "# Revisa si hay nombres duplicados de productos no faltantes\n",
    "non_missing_products = products.dropna(subset=['product_name_upper'])\n",
    "non_missing_duplicate_names = non_missing_products[non_missing_products.duplicated(subset=['product_name_upper'])]\n",
    "print(non_missing_duplicate_names[['product_name']])"
   ]
  },
  {
   "cell_type": "markdown",
   "id": "5ba84286",
   "metadata": {},
   "source": [
    "<div class=\"alert alert-block alert-info\">\n",
    "<b>hecho</b> <a class=\"tocSkip\"></a>\n",
    "</div>"
   ]
  },
  {
   "cell_type": "markdown",
   "id": "9da8d293",
   "metadata": {
    "id": "9da8d293"
   },
   "source": [
    "Describe brevemente tus hallazgos y lo que hiciste con ellos.\n",
    "\n",
    "* Se verificó la presencia de filas totalmente duplicadas, así como duplicados en las columnas \"department_id\" y \"product_name\". No se encontraron filas totalmente duplicadas, pero se identificaron algunos departamentos y nombres de productos que aparecían más de una vez. Se prestó especial atención a los nombres de productos, considerando las posibles variaciones en mayúsculas y minúsculas."
   ]
  },
  {
   "cell_type": "markdown",
   "id": "60f30db1",
   "metadata": {
    "id": "60f30db1"
   },
   "source": [
    "### `departments` data frame"
   ]
  },
  {
   "cell_type": "code",
   "execution_count": 17,
   "id": "fb410ad4-0fbf-4b80-bb09-23fdea79afe3",
   "metadata": {
    "id": "fb410ad4-0fbf-4b80-bb09-23fdea79afe3"
   },
   "outputs": [
    {
     "name": "stdout",
     "output_type": "stream",
     "text": [
      "Empty DataFrame\n",
      "Columns: [department_id, department]\n",
      "Index: []\n"
     ]
    }
   ],
   "source": [
    "duplicated_rows = departments[departments.duplicated()]\n",
    "print(duplicated_rows)# Revisa si hay filas totalmente duplicadas"
   ]
  },
  {
   "cell_type": "code",
   "execution_count": 18,
   "id": "332b12bb",
   "metadata": {
    "id": "332b12bb"
   },
   "outputs": [
    {
     "name": "stdout",
     "output_type": "stream",
     "text": [
      "Empty DataFrame\n",
      "Columns: [department_id, department]\n",
      "Index: []\n"
     ]
    }
   ],
   "source": [
    "duplicate_ids = departments[departments.duplicated(subset=['department_id'])]\n",
    "print(duplicate_ids)# Revisa únicamente si hay IDs duplicadas de productos"
   ]
  },
  {
   "cell_type": "markdown",
   "id": "bd30d78e",
   "metadata": {
    "id": "bd30d78e"
   },
   "source": [
    " No se encontraron filas totalmente duplicadas ni duplicados en la columna \"department_id\"."
   ]
  },
  {
   "cell_type": "markdown",
   "id": "889349c1",
   "metadata": {
    "id": "889349c1"
   },
   "source": [
    "### `aisles` data frame"
   ]
  },
  {
   "cell_type": "code",
   "execution_count": 19,
   "id": "9da89fb9-4679-40f5-ad0d-c34df753a3f8",
   "metadata": {
    "id": "9da89fb9-4679-40f5-ad0d-c34df753a3f8"
   },
   "outputs": [
    {
     "name": "stdout",
     "output_type": "stream",
     "text": [
      "Empty DataFrame\n",
      "Columns: [aisle_id, aisle]\n",
      "Index: []\n"
     ]
    }
   ],
   "source": [
    "duplicated_aisles = aisles[aisles.duplicated()]\n",
    "print(duplicated_aisles)# Revisa si hay filas totalmente duplicadas"
   ]
  },
  {
   "cell_type": "code",
   "execution_count": 20,
   "id": "da7c2822",
   "metadata": {
    "id": "da7c2822"
   },
   "outputs": [
    {
     "name": "stdout",
     "output_type": "stream",
     "text": [
      "Empty DataFrame\n",
      "Columns: [aisle_id, aisle]\n",
      "Index: []\n"
     ]
    }
   ],
   "source": [
    "duplicated_aisle_ids = aisles[aisles['aisle_id'].duplicated()]\n",
    "print(duplicated_aisle_ids)# Revisa únicamente si hay IDs duplicadas de productos"
   ]
  },
  {
   "cell_type": "markdown",
   "id": "ac63826f",
   "metadata": {
    "id": "ac63826f"
   },
   "source": [
    "* No se encontraron filas totalmente duplicadas ni duplicados en la columna \"aisle_id\"."
   ]
  },
  {
   "cell_type": "markdown",
   "id": "274cd06a",
   "metadata": {
    "id": "274cd06a"
   },
   "source": [
    "### `order_products` data frame"
   ]
  },
  {
   "cell_type": "code",
   "execution_count": 21,
   "id": "52326689-84a8-4b8f-a881-7c68780f62c9",
   "metadata": {
    "id": "52326689-84a8-4b8f-a881-7c68780f62c9"
   },
   "outputs": [
    {
     "name": "stdout",
     "output_type": "stream",
     "text": [
      "Empty DataFrame\n",
      "Columns: [order_id, product_id, add_to_cart_order, reordered]\n",
      "Index: []\n"
     ]
    }
   ],
   "source": [
    "duplicated_order_products = order_products[order_products.duplicated()]\n",
    "print(duplicated_order_products)# Revisa si hay filas totalmente duplicadas"
   ]
  },
  {
   "cell_type": "code",
   "execution_count": 22,
   "id": "7b861391",
   "metadata": {
    "id": "7b861391"
   },
   "outputs": [
    {
     "name": "stdout",
     "output_type": "stream",
     "text": [
      "Empty DataFrame\n",
      "Columns: [order_id, product_id, add_to_cart_order, reordered]\n",
      "Index: []\n"
     ]
    }
   ],
   "source": [
    "duplicated_rows = order_products[order_products.duplicated()]\n",
    "print(duplicated_rows)# Vuelve a verificar si hay cualquier otro duplicado engañoso\n"
   ]
  },
  {
   "cell_type": "markdown",
   "id": "0b890492",
   "metadata": {
    "id": "0b890492"
   },
   "source": [
    "* Se confirmó que no hay filas totalmente duplicadas en este DataFrame. Además, se verificó nuevamente la presencia de cualquier duplicado engañoso, y se encontró que el DataFrame está limpio en este aspecto."
   ]
  },
  {
   "cell_type": "markdown",
   "id": "1e46de76",
   "metadata": {
    "id": "1e46de76"
   },
   "source": [
    "## Encuentra y elimina los valores ausentes\n",
    "\n",
    "Al trabajar con valores duplicados, pudimos observar que también nos falta investigar valores ausentes:\n",
    "\n",
    "* La columna `'product_name'` de la tabla products.\n",
    "* La columna `'days_since_prior_order'` de la tabla orders.\n",
    "* La columna `'add_to_cart_order'` de la tabla order_productos."
   ]
  },
  {
   "cell_type": "markdown",
   "id": "c0aebd78",
   "metadata": {
    "id": "c0aebd78"
   },
   "source": [
    "### `products` data frame"
   ]
  },
  {
   "cell_type": "code",
   "execution_count": 23,
   "id": "fe4a8b0f",
   "metadata": {
    "id": "fe4a8b0f"
   },
   "outputs": [
    {
     "name": "stdout",
     "output_type": "stream",
     "text": [
      "       product_id product_name  aisle_id  department_id product_name_upper\n",
      "37             38          NaN       100             21                NaN\n",
      "71             72          NaN       100             21                NaN\n",
      "109           110          NaN       100             21                NaN\n",
      "296           297          NaN       100             21                NaN\n",
      "416           417          NaN       100             21                NaN\n",
      "...           ...          ...       ...            ...                ...\n",
      "49552       49553          NaN       100             21                NaN\n",
      "49574       49575          NaN       100             21                NaN\n",
      "49640       49641          NaN       100             21                NaN\n",
      "49663       49664          NaN       100             21                NaN\n",
      "49668       49669          NaN       100             21                NaN\n",
      "\n",
      "[1258 rows x 5 columns]\n"
     ]
    }
   ],
   "source": [
    "missing_products = products[products['product_name'].isnull()]\n",
    "print(missing_products)# Encuentra los valores ausentes en la columna 'product_name'"
   ]
  },
  {
   "cell_type": "markdown",
   "id": "-A6x1AbJhjkp",
   "metadata": {
    "id": "-A6x1AbJhjkp"
   },
   "source": [
    "* Se encontraron 1258 valores nulos en la columna 'product_name' de la tabla 'products'. "
   ]
  },
  {
   "cell_type": "code",
   "execution_count": 24,
   "id": "e96167bc",
   "metadata": {
    "id": "e96167bc"
   },
   "outputs": [
    {
     "name": "stdout",
     "output_type": "stream",
     "text": [
      "       product_id product_name  aisle_id  department_id product_name_upper\n",
      "37             38          NaN       100             21                NaN\n",
      "71             72          NaN       100             21                NaN\n",
      "109           110          NaN       100             21                NaN\n",
      "296           297          NaN       100             21                NaN\n",
      "416           417          NaN       100             21                NaN\n",
      "...           ...          ...       ...            ...                ...\n",
      "49552       49553          NaN       100             21                NaN\n",
      "49574       49575          NaN       100             21                NaN\n",
      "49640       49641          NaN       100             21                NaN\n",
      "49663       49664          NaN       100             21                NaN\n",
      "49668       49669          NaN       100             21                NaN\n",
      "\n",
      "[1258 rows x 5 columns]\n"
     ]
    }
   ],
   "source": [
    "mpna_100 = products[products['product_name'].isna() & (products['aisle_id'] == 100)]\n",
    "print(mpna_100)#  ¿Todos los nombres de productos ausentes están relacionados con el pasillo con ID 100?\n"
   ]
  },
  {
   "cell_type": "markdown",
   "id": "WRpIfXRphpSL",
   "metadata": {
    "id": "WRpIfXRphpSL"
   },
   "source": [
    "Sí, todos los nombres de productos ausentes están asociados al pasillo con ID 100."
   ]
  },
  {
   "cell_type": "code",
   "execution_count": 25,
   "id": "8fd0a541",
   "metadata": {
    "id": "8fd0a541"
   },
   "outputs": [
    {
     "name": "stdout",
     "output_type": "stream",
     "text": [
      "True\n"
     ]
    }
   ],
   "source": [
    "absent_prod_check = products[products['product_name'].isnull()]['department_id'].unique()\n",
    "print(len(absent_prod_check) == 1 and absent_prod_check[0] == 21)# ¿Todos los nombres de productos ausentes están relacionados con el departamento con ID 21?\n"
   ]
  },
  {
   "cell_type": "markdown",
   "id": "qDpdYn1Fht_I",
   "metadata": {
    "id": "qDpdYn1Fht_I"
   },
   "source": [
    "* Sí, todos los nombres de productos ausentes pertenecen al departamento con ID 21 y al pasillo con ID 100."
   ]
  },
  {
   "cell_type": "code",
   "execution_count": 26,
   "id": "325c3464",
   "metadata": {
    "id": "325c3464"
   },
   "outputs": [
    {
     "name": "stdout",
     "output_type": "stream",
     "text": [
      "Información del pasillo con ID 100:\n",
      "    aisle_id    aisle\n",
      "99       100  missing\n",
      "\n",
      "Información del departamento con ID 21:\n",
      "    department_id department\n",
      "20             21    missing\n"
     ]
    }
   ],
   "source": [
    "# Usa las tablas department y aisle para revisar los datos del pasillo con ID 100 y el departamento con ID 21.\n",
    "# Utiliza la tabla aisles para revisar el pasillo con ID 100\n",
    "aisle_100_info = aisles[aisles['aisle_id'] == 100]\n",
    "\n",
    "# Utiliza la tabla departments para revisar el departamento con ID 21\n",
    "department_21_info = departments[departments['department_id'] == 21]\n",
    "\n",
    "# Muestra la información de ambos\n",
    "print(\"Información del pasillo con ID 100:\")\n",
    "print(aisle_100_info)\n",
    "\n",
    "print(\"\\nInformación del departamento con ID 21:\")\n",
    "print(department_21_info)\n"
   ]
  },
  {
   "cell_type": "markdown",
   "id": "nqhSTUPhhvEJ",
   "metadata": {
    "id": "nqhSTUPhhvEJ"
   },
   "source": [
    "Los valores ausentes en la columna 'product_name' están asociados al pasillo (aisle) con ID 100 y al departamento (department) con ID 21, ambos etiquetados como \"missing\"."
   ]
  },
  {
   "cell_type": "code",
   "execution_count": 27,
   "id": "6b295120",
   "metadata": {
    "id": "6b295120"
   },
   "outputs": [
    {
     "name": "stdout",
     "output_type": "stream",
     "text": [
      "Empty DataFrame\n",
      "Columns: [product_id, product_name, aisle_id, department_id, product_name_upper]\n",
      "Index: []\n"
     ]
    }
   ],
   "source": [
    "products['product_name'].fillna('Unknown', inplace=True)# Completa los nombres de productos ausentes con 'Unknown'\n",
    "print(products[products['product_name'].isna()])"
   ]
  },
  {
   "cell_type": "markdown",
   "id": "fc70e5ad",
   "metadata": {
    "id": "fc70e5ad"
   },
   "source": [
    "* Después de realizar esta acción, confirmé que ya no hay valores ausentes en la columna 'product_name'."
   ]
  },
  {
   "cell_type": "markdown",
   "id": "7eb45c86",
   "metadata": {
    "id": "7eb45c86"
   },
   "source": [
    "### `orders` data frame"
   ]
  },
  {
   "cell_type": "code",
   "execution_count": 28,
   "id": "93e41d96",
   "metadata": {
    "id": "93e41d96"
   },
   "outputs": [
    {
     "name": "stdout",
     "output_type": "stream",
     "text": [
      "order_id                      0\n",
      "user_id                       0\n",
      "order_number                  0\n",
      "order_dow                     0\n",
      "order_hour_of_day             0\n",
      "days_since_prior_order    28817\n",
      "dtype: int64\n"
     ]
    }
   ],
   "source": [
    "missing_values_orders = orders.isnull().sum()\n",
    "print(missing_values_orders)# Encuentra los valores ausentes"
   ]
  },
  {
   "cell_type": "code",
   "execution_count": 29,
   "id": "166e5a86",
   "metadata": {
    "id": "166e5a86"
   },
   "outputs": [
    {
     "name": "stdout",
     "output_type": "stream",
     "text": [
      "Empty DataFrame\n",
      "Columns: [order_id, user_id, order_number, order_dow, order_hour_of_day, days_since_prior_order]\n",
      "Index: []\n"
     ]
    }
   ],
   "source": [
    "not_first_orders = orders[(orders['days_since_prior_order'].isnull()) & (orders['order_number'] > 1)]\n",
    "print(not_first_orders)# ¿Hay algún valor ausente que no sea el primer pedido del cliente?"
   ]
  },
  {
   "cell_type": "markdown",
   "id": "4e23d089",
   "metadata": {
    "id": "4e23d089"
   },
   "source": [
    "* No hay valores ausentes en esta columna que no estén asociados al primer pedido de un cliente."
   ]
  },
  {
   "cell_type": "markdown",
   "id": "69dc9ca4",
   "metadata": {
    "id": "69dc9ca4"
   },
   "source": [
    "### `order_products` data frame"
   ]
  },
  {
   "cell_type": "code",
   "execution_count": 30,
   "id": "b8240253",
   "metadata": {
    "id": "b8240253"
   },
   "outputs": [
    {
     "name": "stdout",
     "output_type": "stream",
     "text": [
      "order_id               0\n",
      "product_id             0\n",
      "add_to_cart_order    836\n",
      "reordered              0\n",
      "dtype: int64\n"
     ]
    }
   ],
   "source": [
    "print(order_products.isnull().sum())# Encuentra los valores ausentes"
   ]
  },
  {
   "cell_type": "code",
   "execution_count": 31,
   "id": "9a78e5ee",
   "metadata": {
    "id": "9a78e5ee"
   },
   "outputs": [
    {
     "name": "stdout",
     "output_type": "stream",
     "text": [
      "Valor mínimo en 'add_to_cart_order': 1.0\n",
      "Valor máximo en 'add_to_cart_order': 64.0\n"
     ]
    }
   ],
   "source": [
    "print(\"Valor mínimo en 'add_to_cart_order':\", order_products['add_to_cart_order'].min())\n",
    "print(\"Valor máximo en 'add_to_cart_order':\", order_products['add_to_cart_order'].max())\n",
    "# ¿Cuáles son los valores mínimos y máximos en esta columna?\n"
   ]
  },
  {
   "cell_type": "markdown",
   "id": "-Z2Ja215jW78",
   "metadata": {
    "id": "-Z2Ja215jW78"
   },
   "source": [
    "* En la columna 'add_to_cart_order' de la tabla 'order_products', se encontraron 836 valores ausentes. Estos valores corresponden al orden de agregado al carrito(add_to_cart_order), y el rango de valores minimos y maximosde la columna es de 1 a 64. "
   ]
  },
  {
   "cell_type": "code",
   "execution_count": 32,
   "id": "ab9d0c2b",
   "metadata": {
    "id": "ab9d0c2b"
   },
   "outputs": [
    {
     "name": "stdout",
     "output_type": "stream",
     "text": [
      "[2449164 1968313 2926893 1717990 1959075  844733   61355  936852  264710\n",
      " 1564093  129627  293169 2849370 1386261 3308010  903110 2136777 3347453\n",
      " 1888628  165801 2094761 1038146 2997021  813364 2256933  171934 2409109\n",
      " 1730767 1169835  733526  404157 3125735  747668 1800005 1961723  871281\n",
      "  388234 1648217 1477139  102236 1021563 1832957 2721963  678116 1220886\n",
      " 1673227 2999801 1633337 2470674 2625444 1677118 2479011 3383594 1183255\n",
      " 1713430 2652650 1598369 1916118  854647 1302315  888470  180546 2621907\n",
      " 1308785 2729254    9310 2170451 2979697 1625713 1529171]\n"
     ]
    }
   ],
   "source": [
    "missing_add_to_cart_order_ids = order_products[order_products['add_to_cart_order'].isnull()]['order_id'].unique()\n",
    "print(missing_add_to_cart_order_ids)# Guarda todas las IDs de pedidos que tengan un valor ausente en 'add_to_cart_order'\n"
   ]
  },
  {
   "cell_type": "code",
   "execution_count": 33,
   "id": "54c31695",
   "metadata": {
    "id": "54c31695"
   },
   "outputs": [
    {
     "name": "stdout",
     "output_type": "stream",
     "text": [
      "¿Todos los pedidos con valores ausentes tienen más de 64 productos?: True\n",
      "\n",
      "Número de productos en cada pedido con valores ausentes:\n",
      "order_id\n",
      "9310        65\n",
      "61355      127\n",
      "102236      95\n",
      "129627      69\n",
      "165801      70\n",
      "          ... \n",
      "2999801     70\n",
      "3125735     86\n",
      "3308010    115\n",
      "3347453     71\n",
      "3383594     69\n",
      "Name: product_id, Length: 70, dtype: int64\n",
      "\n",
      "Valor mínimo del número de productos en un pedido: 1\n"
     ]
    }
   ],
   "source": [
    "# debo guardar todas las IDs de pedidos que tengan un valor ausente en 'add_to_cart_order'\n",
    "missing_order_ids = order_products[order_products['add_to_cart_order'].isna()]['order_id'].unique()\n",
    "# ¿Todos los pedidos con valores ausentes tienen más de 64 productos?\n",
    "missing_orders = order_products[order_products['order_id'].isin(missing_order_ids)]\n",
    "all_missing_orders_over_64 = all(missing_orders.groupby('order_id')['product_id'].count() > 64)\n",
    "print(\"¿Todos los pedidos con valores ausentes tienen más de 64 productos?:\", all_missing_orders_over_64)\n",
    "print()\n",
    "# Agrupa todos los pedidos con datos ausentes por su ID de pedido.\n",
    "missing_orders_grouped = missing_orders.groupby('order_id')['product_id'].count()\n",
    "print(\"Número de productos en cada pedido con valores ausentes:\")\n",
    "print(missing_orders_grouped)\n",
    "print()\n",
    "# Cuenta el número de 'product_id' en cada pedido y revisa el valor mínimo del conteo.\n",
    "product_count_per_order = order_products.groupby('order_id')['product_id'].count()\n",
    "min_product_count = product_count_per_order.min()\n",
    "print(\"Valor mínimo del número de productos en un pedido:\", min_product_count)"
   ]
  },
  {
   "cell_type": "markdown",
   "id": "p9V6pddtjglj",
   "metadata": {
    "id": "p9V6pddtjglj"
   },
   "source": [
    "* ¿Todos los pedidos con valores ausentes tienen más de 64 productos?: Sí, todos los pedidos con valores ausentes tienen más de 64 productos.\n",
    "* Número de productos en cada pedido con valores ausentes: Los pedidos con valores ausentes tienen una variabilidad en la cantidad de productos, pero todos tienen más de 64 productos.\n",
    "* Valor mínimo del número de productos en un pedido: El valor mínimo del número de productos en un pedido es 1."
   ]
  },
  {
   "cell_type": "code",
   "execution_count": 34,
   "id": "7a987d08",
   "metadata": {
    "id": "7a987d08"
   },
   "outputs": [
    {
     "name": "stdout",
     "output_type": "stream",
     "text": [
      "         order_id  product_id  add_to_cart_order  reordered\n",
      "0         2141543       11440                 17          0\n",
      "1          567889        1560                  1          1\n",
      "2         2261212       26683                  1          1\n",
      "3          491251        8670                 35          1\n",
      "4         2571142        1940                  5          1\n",
      "...           ...         ...                ...        ...\n",
      "4545002    577211       15290                 12          1\n",
      "4545003   1219554       21914                  9          0\n",
      "4545004    692640       47766                  4          1\n",
      "4545005    319435         691                  8          1\n",
      "4545006   1398151       28733                  9          0\n",
      "\n",
      "[4545007 rows x 4 columns]\n"
     ]
    }
   ],
   "source": [
    "# Remplaza los valores ausentes en la columna 'add_to_cart? con 999 y convierte la columna al tipo entero.\n",
    "order_products['add_to_cart_order'].fillna(999, inplace=True)\n",
    "order_products['add_to_cart_order'] = order_products['add_to_cart_order'].astype(int)\n",
    "\n",
    "print(order_products)"
   ]
  },
  {
   "cell_type": "markdown",
   "id": "fea4bcc7",
   "metadata": {
    "id": "fea4bcc7"
   },
   "source": [
    "* Se identificaron valores ausentes en la columna 'add_to_cart_order' de la tabla order_products, los cuales fueron reemplazados por 999 y la columna se convirtió a tipo entero."
   ]
  },
  {
   "cell_type": "markdown",
   "id": "1e63ef53",
   "metadata": {},
   "source": [
    " <div class=\"alert alert-block alert-success\">\n",
    "<b>Comentario del revisor</b> <a class=\"tocSkip\"></a>\n",
    "\n",
    "Excelente trabajo en esta sección.\n",
    "</div>"
   ]
  },
  {
   "cell_type": "markdown",
   "id": "RnplPFY1gSrb",
   "metadata": {
    "id": "RnplPFY1gSrb"
   },
   "source": [
    "## Conclusiones\n",
    "\n",
    "Durante el Paso 2 de Preprocesamiento de Datos, se realizaron varias tareas clave:\n",
    "\n",
    "* Identificación y manejo de valores duplicados: Se revisaron y eliminaron los valores duplicados en las tablas 'orders', 'products', 'departments', y 'aisles'. Además, se examinaron y abordaron los duplicados en la tabla 'order_products'.\n",
    "* Manejo de valores ausentes: Se identificaron y abordaron los valores ausentes en las columnas 'product_name' de la tabla 'products', 'days_since_prior_order' de la tabla 'orders', y 'add_to_cart_order' de la tabla 'order_products'.\n",
    "* Exploración de datos: Se exploraron las relaciones entre las tablas y se verificó la consistencia de los datos, como la correspondencia entre el ID del producto y el departamento o pasillo.\n",
    "* Reemplazo de valores: Se reemplazaron los valores ausentes en la columna 'add_to_cart_order' de la tabla 'order_products' con el valor 999 y se convirtió la columna al tipo entero.\n",
    "\n",
    "En resumen, se logró un progreso significativo en la preparación de los datos, abordando duplicados y valores ausentes, y asegurando la consistencia de los datos para su análisis posterior.\n"
   ]
  },
  {
   "cell_type": "markdown",
   "id": "UjrOIwTcz3ri",
   "metadata": {
    "id": "UjrOIwTcz3ri"
   },
   "source": [
    "# Paso 3. Análisis de los datos\n",
    "\n",
    "Una vez los datos estén procesados y listos, haz el siguiente análisis:"
   ]
  },
  {
   "cell_type": "markdown",
   "id": "turkish-kidney",
   "metadata": {
    "id": "turkish-kidney"
   },
   "source": [
    "# [A] Fácil (deben completarse todos para aprobar)\n",
    "\n",
    "1. Verifica que los valores en las columnas `'order_hour_of_day'` y `'order_dow'` en la tabla orders sean razonables (es decir, `'order_hour_of_day'` oscile entre 0 y 23 y `'order_dow'` oscile entre 0 y 6).\n",
    "2. Crea un gráfico que muestre el número de personas que hacen pedidos dependiendo de la hora del día.\n",
    "3. Crea un gráfico que muestre qué día de la semana la gente hace sus compras.\n",
    "4. Crea un gráfico que muestre el tiempo que la gente espera hasta hacer su siguiente pedido, y comenta sobre los valores mínimos y máximos."
   ]
  },
  {
   "cell_type": "markdown",
   "id": "short-capability",
   "metadata": {
    "id": "short-capability"
   },
   "source": [
    "### [A1] Verifica que los valores sean sensibles"
   ]
  },
  {
   "cell_type": "code",
   "execution_count": 35,
   "id": "growing-fruit",
   "metadata": {
    "id": "growing-fruit"
   },
   "outputs": [
    {
     "name": "stdout",
     "output_type": "stream",
     "text": [
      "¿Todos los valores en 'order_hour_of_day' son sensibles? True\n"
     ]
    }
   ],
   "source": [
    "order_hour_valid = orders['order_hour_of_day'].between(0, 23).all()\n",
    "print(\"¿Todos los valores en 'order_hour_of_day' son sensibles?\", order_hour_valid)"
   ]
  },
  {
   "cell_type": "code",
   "execution_count": 36,
   "id": "accessory-malaysia",
   "metadata": {
    "id": "accessory-malaysia"
   },
   "outputs": [
    {
     "name": "stdout",
     "output_type": "stream",
     "text": [
      "¿Todos los valores en 'order_dow' son sensibles? True\n"
     ]
    }
   ],
   "source": [
    "order_dow_valid = orders['order_dow'].between(0, 6).all()\n",
    "print(\"¿Todos los valores en 'order_dow' son sensibles?\", order_dow_valid)"
   ]
  },
  {
   "cell_type": "markdown",
   "id": "hmR2GNQ6lCsX",
   "metadata": {
    "id": "hmR2GNQ6lCsX"
   },
   "source": [
    "* La comprobación de que todos los valores en las columnas 'order_hour_of_day' y 'order_dow' son senibles, dentro de los rangos esperados. Esto sugiere que la información sobre la hora del día y el día de la semana en que se realizan los pedidos tiene un formato adecuado y no presenta valores inusuales o problemas evidentes."
   ]
  },
  {
   "cell_type": "markdown",
   "id": "a6743a70",
   "metadata": {
    "id": "a6743a70"
   },
   "source": [
    "### [A2] Para cada hora del día, ¿cuántas personas hacen órdenes?"
   ]
  },
  {
   "cell_type": "code",
   "execution_count": 37,
   "id": "a36cca27",
   "metadata": {
    "id": "a36cca27"
   },
   "outputs": [
    {
     "data": {
      "image/png": "[encoded data removed]",
      "text/plain": [
       "<Figure size 432x288 with 1 Axes>"
      ]
     },
     "metadata": {
      "needs_background": "light"
     },
     "output_type": "display_data"
    }
   ],
   "source": [
    "# Agrupa por hora del día y cuenta la cantidad de personas que hacen pedidos\n",
    "orders_by_hour = orders.groupby('order_hour_of_day')['user_id'].nunique()\n",
    "# Gráfico de barras para mostrar la distribución\n",
    "plt.bar(orders_by_hour.index, orders_by_hour.values)\n",
    "plt.xlabel('Hora del día')\n",
    "plt.ylabel('Número de personas')\n",
    "plt.title('Número de personas que hacen pedidos por hora del día')\n",
    "plt.show()"
   ]
  },
  {
   "cell_type": "markdown",
   "id": "baf9697f",
   "metadata": {},
   "source": [
    "<div class=\"alert alert-block alert-info\">\n",
    "<b>hecho</b> <a class=\"tocSkip\"></a>\n",
    "</div>"
   ]
  },
  {
   "cell_type": "markdown",
   "id": "11270eed",
   "metadata": {
    "id": "11270eed"
   },
   "source": [
    "* Esto indica que hay un aumento significativo en la cantidad de personas que realizan pedidos entre las 9 a.m. y las 4 p.m. Es un patrón común ya que estas horas suelen estar relacionadas con el horario comercial estándar y probablemente refleje el momento en que la mayoría de las personas realizan sus compras diarias."
   ]
  },
  {
   "cell_type": "markdown",
   "id": "documented-command",
   "metadata": {
    "id": "documented-command"
   },
   "source": [
    "### [A3] ¿Qué día de la semana compran víveres las personas?"
   ]
  },
  {
   "cell_type": "code",
   "execution_count": 38,
   "id": "chief-digit",
   "metadata": {
    "id": "chief-digit"
   },
   "outputs": [
    {
     "data": {
      "image/png": "[encoded data removed]",
      "text/plain": [
       "<Figure size 720x432 with 1 Axes>"
      ]
     },
     "metadata": {
      "needs_background": "light"
     },
     "output_type": "display_data"
    }
   ],
   "source": [
    "# Mapeo de números de día a nombres de día\n",
    "dow_mapping = {0: 'Lunes', 1: 'Martes', 2: 'Miércoles', 3: 'Jueves', 4: 'Viernes', 5: 'Sábado', 6: 'Domingo'}\n",
    "# Crear una nueva columna 'day_of_week' con nombres de días y especificar el orden\n",
    "orders['day_of_week'] = orders['order_dow'].map(dow_mapping)\n",
    "days_order = ['Lunes', 'Martes', 'Miércoles', 'Jueves', 'Viernes', 'Sábado', 'Domingo']\n",
    "orders['day_of_week'] = pd.Categorical(orders['day_of_week'], categories=days_order, ordered=True)\n",
    "# Crear un gráfico que muestre qué día de la semana la gente hace sus compras\n",
    "orders['day_of_week'].value_counts().sort_index().plot(kind='bar', color='skyblue', figsize=(10, 6))\n",
    "plt.title('Número de Pedidos por Día de la Semana')\n",
    "plt.xlabel('Día de la Semana')\n",
    "plt.ylabel('Número de Pedidos')\n",
    "plt.show()"
   ]
  },
  {
   "cell_type": "markdown",
   "id": "dominant-lightning",
   "metadata": {
    "id": "dominant-lightning"
   },
   "source": [
    "* El análisis de los días de la semana en que se realizan los pedidos revela que los lunes y martes tienen un número considerablemente mayor de pedidos, superando los 80,000, mientras que de miércoles a domingo se mantiene más constante, con cifras entre 60,000 y 70,000. Esto sugiere variaciones en los patrones de compra a lo largo de la semana, con un inicio fuerte al principio."
   ]
  },
  {
   "cell_type": "markdown",
   "id": "cutting-concert",
   "metadata": {
    "id": "cutting-concert"
   },
   "source": [
    "### [A4] ¿Cuánto tiempo esperan las personas hasta hacer otro pedido? Comenta sobre los valores mínimos y máximos."
   ]
  },
  {
   "cell_type": "code",
   "execution_count": 39,
   "id": "c231f523",
   "metadata": {
    "id": "c231f523"
   },
   "outputs": [
    {
     "data": {
      "image/png": "[encoded data removed]",
      "text/plain": [
       "<Figure size 720x432 with 1 Axes>"
      ]
     },
     "metadata": {
      "needs_background": "light"
     },
     "output_type": "display_data"
    },
    {
     "name": "stdout",
     "output_type": "stream",
     "text": [
      "Valor mínimo de días hasta el siguiente pedido: 0.0\n",
      "Valor máximo de días hasta el siguiente pedido: 30.0\n"
     ]
    }
   ],
   "source": [
    "# Visualizar la distribución del tiempo que las personas esperan hasta hacer otro pedido\n",
    "plt.figure(figsize=(10, 6))\n",
    "plt.hist(orders['days_since_prior_order'].dropna(), bins=50, color='skyblue', edgecolor='black')\n",
    "plt.title('Distribución del Tiempo Hasta el Siguiente Pedido')\n",
    "plt.xlabel('Días desde el Pedido Anterior')\n",
    "plt.ylabel('Frecuencia')\n",
    "plt.show()\n",
    "# Calcular los valores mínimo y máximo\n",
    "min_days = orders['days_since_prior_order'].min()\n",
    "max_days = orders['days_since_prior_order'].max()\n",
    "print(f\"Valor mínimo de días hasta el siguiente pedido: {min_days}\")\n",
    "print(f\"Valor máximo de días hasta el siguiente pedido: {max_days}\")"
   ]
  },
  {
   "cell_type": "markdown",
   "id": "discrete-vertex",
   "metadata": {
    "id": "discrete-vertex"
   },
   "source": [
    "* La observación del comportamiento de compra a lo largo del mes, se sugiere que la disminución en la frecuencia de pedidos hacia el final del mes podría estar relacionada con factores económicos, como la fecha de pago de sueldos. Este patrón podría indicar que las personas tienden a realizar más pedidos al principio del mes cuando cuentan con más recursos financieros."
   ]
  },
  {
   "cell_type": "markdown",
   "id": "tight-staff",
   "metadata": {
    "id": "tight-staff"
   },
   "source": [
    "# [B] Intermedio (deben completarse todos para aprobar)\n",
    "\n",
    "1. ¿Existe alguna diferencia entre las distribuciones `'order_hour_of_day'` de los miércoles y los sábados? Traza gráficos de barra de `'order_hour_of_day'` para ambos días en la misma figura y describe las diferencias que observes.\n",
    "2. Grafica la distribución para el número de órdenes que hacen los clientes (es decir, cuántos clientes hicieron solo 1 pedido, cuántos hicieron 2, cuántos 3, y así sucesivamente...).\n",
    "3. ¿Cuáles son los 20 principales productos que se piden con más frecuencia (muestra su identificación y nombre)?"
   ]
  },
  {
   "cell_type": "markdown",
   "id": "packed-classic",
   "metadata": {
    "id": "packed-classic"
   },
   "source": [
    "### [B1] Diferencia entre miércoles y sábados para  `'order_hour_of_day'`. Traza gráficos de barra para los dos días y describe las diferencias que veas."
   ]
  },
  {
   "cell_type": "code",
   "execution_count": 40,
   "id": "d89b8403",
   "metadata": {
    "id": "d89b8403"
   },
   "outputs": [],
   "source": [
    "# Filtra los datos para miércoles y sábados\n",
    "wednesday_data = orders[orders['order_dow'] == 3]\n",
    "saturday_data = orders[orders['order_dow'] == 6]"
   ]
  },
  {
   "cell_type": "code",
   "execution_count": 41,
   "id": "94e54e8a",
   "metadata": {
    "id": "94e54e8a"
   },
   "outputs": [],
   "source": [
    "# Calcula la distribución de 'order_hour_of_day' para miércoles\n",
    "wednesday_distribution = wednesday_data['order_hour_of_day'].value_counts().sort_index()"
   ]
  },
  {
   "cell_type": "code",
   "execution_count": 42,
   "id": "797c90a8",
   "metadata": {
    "id": "797c90a8"
   },
   "outputs": [],
   "source": [
    "# Calcula la distribución de 'order_hour_of_day' para sábados\n",
    "saturday_distribution = saturday_data['order_hour_of_day'].value_counts().sort_index()"
   ]
  },
  {
   "cell_type": "code",
   "execution_count": 43,
   "id": "35bcea30",
   "metadata": {
    "id": "35bcea30"
   },
   "outputs": [
    {
     "data": {
      "image/png": "[encoded data removed]",
      "text/plain": [
       "<Figure size 864x432 with 1 Axes>"
      ]
     },
     "metadata": {
      "needs_background": "light"
     },
     "output_type": "display_data"
    }
   ],
   "source": [
    "# Crea gráficos de barra para 'order_hour_of_day' en miércoles y sábados\n",
    "plt.figure(figsize=(12, 6))\n",
    "plt.bar(wednesday_distribution.index - 0.2, wednesday_distribution, color='skyblue', width=0.4, label='Miércoles')\n",
    "plt.bar(saturday_distribution.index + 0.2, saturday_distribution, color='salmon', width=0.4, label='Sábado', alpha=0.7)\n",
    "# Ajusta la apariencia del gráfico\n",
    "plt.title('Distribución de Horas del Día para Miércoles y Sábado')\n",
    "plt.xlabel('Hora del Día')\n",
    "plt.ylabel('Número de Pedidos')\n",
    "plt.legend()\n",
    "plt.show()"
   ]
  },
  {
   "cell_type": "markdown",
   "id": "charitable-congo",
   "metadata": {
    "id": "charitable-congo"
   },
   "source": [
    "* Parece que, durante los días laborables, especialmente en las primeras horas del día, hay una mayor cantidad de pedidos en comparación con los sábados(o fin de semanas). Esta disminución en la cantidad de pedidos los sábados por la mañana puede deberse al hecho de que las personas tienden a descansar o realizar otras actividades durante el fin de semana, y luego hay un aumento en las horas del almuerzo, indicando que es posible que las personas estén haciendo pedidos después de levantarse más tarde durante los fines de semana."
   ]
  },
  {
   "cell_type": "markdown",
   "id": "e3891143",
   "metadata": {
    "id": "e3891143"
   },
   "source": [
    "### [B2] ¿Cuál es la distribución para el número de pedidos por cliente?"
   ]
  },
  {
   "cell_type": "code",
   "execution_count": 44,
   "id": "d8c26c23",
   "metadata": {
    "id": "d8c26c23"
   },
   "outputs": [],
   "source": [
    "# Agrupa por usuario y cuenta el número de pedidos\n",
    "orders_per_user = orders.groupby('user_id')['order_number'].max().value_counts()"
   ]
  },
  {
   "cell_type": "code",
   "execution_count": 45,
   "id": "00e69a66",
   "metadata": {
    "id": "00e69a66"
   },
   "outputs": [
    {
     "data": {
      "image/png": "[encoded data removed]",
      "text/plain": [
       "<Figure size 864x432 with 1 Axes>"
      ]
     },
     "metadata": {
      "needs_background": "light"
     },
     "output_type": "display_data"
    }
   ],
   "source": [
    "# Crea un gráfico de barras\n",
    "plt.figure(figsize=(12, 6))\n",
    "orders_per_user.sort_index().plot(kind='bar', color='skyblue')\n",
    "plt.title('Distribución del Número de Pedidos por Cliente')\n",
    "plt.xlabel('Número de Pedidos')\n",
    "plt.ylabel('Número de Clientes')\n",
    "plt.show()"
   ]
  },
  {
   "cell_type": "markdown",
   "id": "d2eff7d5",
   "metadata": {
    "id": "d2eff7d5"
   },
   "source": [
    "* Podemos concluir que la mayoría de los clientes realizan un número relativamente bajo de pedidos, con un pico alrededor de 4 pedidos por cliente. A medida que el número de pedidos por cliente aumenta, la frecuencia disminuye, siguiendo una distribución que se asemeja a una curva logarítmica. Este patrón sugiere que hay muchos clientes ocasionales o esporádicos que realizan solo unos pocos pedidos, mientras que la proporción de clientes que realizan un mayor número de pedidos disminuye gradualmente."
   ]
  },
  {
   "cell_type": "markdown",
   "id": "54a0319c",
   "metadata": {
    "id": "54a0319c"
   },
   "source": [
    "### [B3] ¿Cuáles son los 20 productos más populares (muestra su ID y nombre)?"
   ]
  },
  {
   "cell_type": "code",
   "execution_count": 46,
   "id": "exterior-arizona",
   "metadata": {
    "id": "exterior-arizona",
    "scrolled": true
   },
   "outputs": [],
   "source": [
    "top_products = order_products['product_id'].value_counts().head(20)"
   ]
  },
  {
   "cell_type": "code",
   "execution_count": 47,
   "id": "universal-facial",
   "metadata": {
    "id": "universal-facial"
   },
   "outputs": [],
   "source": [
    "top_products_info = products[products['product_id'].isin(top_products.index)][['product_id', 'product_name']]"
   ]
  },
  {
   "cell_type": "code",
   "execution_count": 48,
   "id": "bbcdd20b",
   "metadata": {
    "id": "bbcdd20b"
   },
   "outputs": [
    {
     "name": "stdout",
     "output_type": "stream",
     "text": [
      "       product_id              product_name\n",
      "5875         5876             Organic Lemon\n",
      "8276         8277  Apple Honeycrisp Organic\n",
      "13175       13176    Bag of Organic Bananas\n",
      "16796       16797              Strawberries\n",
      "21136       21137      Organic Strawberries\n",
      "21902       21903      Organic Baby Spinach\n",
      "22934       22935      Organic Yellow Onion\n",
      "24851       24852                    Banana\n",
      "24963       24964            Organic Garlic\n",
      "26208       26209                     Limes\n",
      "27844       27845        Organic Whole Milk\n",
      "27965       27966       Organic Raspberries\n",
      "28203       28204        Organic Fuji Apple\n",
      "39274       39275       Organic Blueberries\n",
      "40705       40706    Organic Grape Tomatoes\n",
      "45006       45007          Organic Zucchini\n",
      "47208       47209      Organic Hass Avocado\n",
      "47625       47626               Large Lemon\n",
      "47765       47766           Organic Avocado\n",
      "49682       49683            Cucumber Kirby\n"
     ]
    }
   ],
   "source": [
    "print(top_products_info)"
   ]
  },
  {
   "cell_type": "markdown",
   "id": "7df00f47",
   "metadata": {
    "id": "7df00f47"
   },
   "source": [
    "* Los 20 productos más populares incluyen principalmente frutas y verduras orgánicas, así como algunos productos básicos como leche orgánica y aguacates orgánicos. Los clientes parecen tener una preferencia por productos frescos y saludables.\n",
    "Puede ser útil para la gestión de inventario y estrategias de marketing para destacar estos productos populares."
   ]
  },
  {
   "cell_type": "markdown",
   "id": "gross-theme",
   "metadata": {
    "id": "gross-theme"
   },
   "source": [
    "# [C] Difícil (deben completarse todos para aprobar)\n",
    "\n",
    "1. ¿Cuántos artículos suelen comprar las personas en un pedido? ¿Cómo es la distribución?\n",
    "2. ¿Cuáles son los 20 principales artículos que vuelven a pedirse con mayor frecuencia (muestra sus nombres e IDs de los productos)?\n",
    "3. Para cada producto, ¿cuál es la tasa de repetición del pedido (número de repeticiones de pedido/total de pedidos?\n",
    "4. Para cada cliente, ¿qué proporción de los productos que pidió ya los había pedido? Calcula la tasa de repetición de pedido para cada usuario en lugar de para cada producto.\n",
    "5. ¿Cuáles son los 20 principales artículos que la gente pone primero en sus carritos (muestra las IDs de los productos, sus nombres, y el número de veces en que fueron el primer artículo en añadirse al carrito)?"
   ]
  },
  {
   "cell_type": "markdown",
   "id": "romantic-deposit",
   "metadata": {
    "id": "romantic-deposit"
   },
   "source": [
    "### [C1] ¿Cuántos artículos compran normalmente las personas en un pedido? ¿Cómo es la distribución?"
   ]
  },
  {
   "cell_type": "code",
   "execution_count": 49,
   "id": "virtual-punch",
   "metadata": {
    "id": "virtual-punch"
   },
   "outputs": [],
   "source": [
    "# Cálculo del número promedio de artículos por pedido\n",
    "average_items_per_order = order_products.groupby('order_id')['product_id'].count().mean()\n"
   ]
  },
  {
   "cell_type": "code",
   "execution_count": 50,
   "id": "sensitive-breathing",
   "metadata": {
    "id": "sensitive-breathing"
   },
   "outputs": [],
   "source": [
    "# Distribución del número de artículos por pedido\n",
    "items_per_order_distribution = order_products.groupby('order_id')['product_id'].count()"
   ]
  },
  {
   "cell_type": "code",
   "execution_count": 51,
   "id": "completed-frank",
   "metadata": {
    "id": "completed-frank"
   },
   "outputs": [
    {
     "data": {
      "image/png": "[encoded data removed]",
      "text/plain": [
       "<Figure size 864x432 with 1 Axes>"
      ]
     },
     "metadata": {
      "needs_background": "light"
     },
     "output_type": "display_data"
    },
    {
     "name": "stdout",
     "output_type": "stream",
     "text": [
      "Número promedio de artículos por pedido: 10.10\n"
     ]
    }
   ],
   "source": [
    "# Gráfico de la distribución\n",
    "plt.figure(figsize=(12, 6))\n",
    "plt.hist(order_products.groupby('order_id')['product_id'].count(), bins=range(1, 61), color='skyblue', edgecolor='black')\n",
    "plt.title('Distribución del Número de Artículos por Pedido')\n",
    "plt.xlabel('Número de Artículos por Pedido')\n",
    "plt.ylabel('Frecuencia')\n",
    "plt.xticks(range(1, 51)) #decidi bajar el rango de numeros de articulos a 50 ya que despues de eso las barras no eran visibles\n",
    "plt.show()\n",
    "# Imprimir el número promedio de artículos por pedido\n",
    "print(f\"Número promedio de artículos por pedido: {average_items_per_order:.2f}\")"
   ]
  },
  {
   "cell_type": "markdown",
   "id": "designed-mortality",
   "metadata": {
    "id": "designed-mortality"
   },
   "source": [
    "* En promedio, las personas tienden a comprar alrededor de 10 artículos por pedido. La distribución del número de artículos por pedido proporciona más detalles sobre la variabilidad en la cantidad de productos que los clientes incluyen en sus pedidos. Puede observarse en el histograma cómo se distribuyen los pedidos en función del número de artículos."
   ]
  },
  {
   "cell_type": "markdown",
   "id": "5e6b5537",
   "metadata": {
    "id": "5e6b5537"
   },
   "source": [
    "### [C2] ¿Cuáles son los 20 principales artículos que vuelven a pedirse con mayor frecuencia (muestra sus nombres e IDs de los productos)?"
   ]
  },
  {
   "cell_type": "code",
   "execution_count": 52,
   "id": "9374e55a",
   "metadata": {
    "id": "9374e55a"
   },
   "outputs": [],
   "source": [
    "# Filtrar productos que fueron vuelto a pedir (reordered == 1)\n",
    "reordered_products = order_products[order_products['reordered'] == 1]\n",
    "# Calcular la frecuencia de productos que vuelven a pedirse\n",
    "product_reorder_frequency = reordered_products.groupby('product_id')['reordered'].mean()"
   ]
  },
  {
   "cell_type": "code",
   "execution_count": 53,
   "id": "possible-change",
   "metadata": {
    "id": "possible-change",
    "scrolled": true
   },
   "outputs": [],
   "source": [
    "# Obtener los 20 principales productos que vuelven a pedirse\n",
    "top_reordered_products = product_reorder_frequency.sort_values(ascending=False).head(20)\n",
    "# Fusionar con la información de productos\n",
    "top_reordered_products_info = pd.merge(top_reordered_products, products[['product_id', 'product_name']], left_index=True, right_on='product_id')"
   ]
  },
  {
   "cell_type": "code",
   "execution_count": 54,
   "id": "professional-surfing",
   "metadata": {
    "id": "professional-surfing",
    "scrolled": true
   },
   "outputs": [],
   "source": [
    "# Establecer opciones de formato\n",
    "pd.set_option('display.max_colwidth', None)  # Para mostrar todo el contenido de las celdas\n",
    "pd.set_option('display.max_columns', None)   # Para mostrar todas las columnas"
   ]
  },
  {
   "cell_type": "code",
   "execution_count": 55,
   "id": "48dd3658",
   "metadata": {
    "id": "48dd3658"
   },
   "outputs": [
    {
     "name": "stdout",
     "output_type": "stream",
     "text": [
      " product_id                                               product_name  reordered\n",
      "          1                                 Chocolate Sandwich Cookies          1\n",
      "      33139                            Vegetarian Worcestershire Sauce          1\n",
      "      33131                                 Hair Remover Wax Strip Kit          1\n",
      "      33132                                        Mild Red Taco Sauce          1\n",
      "      33134                               Orange Recovery Energy Drink          1\n",
      "      33135                                    Organic Blueberry Kefir          1\n",
      "      33136                                Tissue with Lotion Aloe & E          1\n",
      "      33138                       Classic Chopped Grill Feast Cat Food          1\n",
      "      33140                       Cruisers Diapers Jumbo Pack - Size 6          1\n",
      "      33129                                             Classic Hummus          1\n",
      "      33142                                                    Unknown          1\n",
      "      33143                             Original Probiotic Dairy Drink          1\n",
      "      33144                Mango & Sweet Potato Super Puffs for Babies          1\n",
      "      33145 Organic Kale Salad With Organic Sesame Vinagrette Dressing          1\n",
      "      33146                                       Revolt Killer Citrus          1\n",
      "      33147                                  Organic Crimini Mushrooms          1\n",
      "      33130               Organic Salt Free Cabbage Dill Raw Sauerkrat          1\n",
      "      33127                                 No Salt Roasted Pistachios          1\n",
      "      33108          Bean & Cheese & Beef & Bean Variety Pack Burritos          1\n",
      "      33117                      All Natural Gluten Free Dijon Mustard          1\n"
     ]
    }
   ],
   "source": [
    "# Imprimir la tabla formateada\n",
    "print(top_reordered_products_info[['product_id', 'product_name', 'reordered']].to_string(index=False))"
   ]
  },
  {
   "cell_type": "markdown",
   "id": "80e70c74",
   "metadata": {
    "id": "80e70c74"
   },
   "source": [
    "* Estos productos tienen una tasa de repetición del 100%, lo que significa que son siempre pedidos nuevamente cuando los clientes realizan compras adicionales."
   ]
  },
  {
   "cell_type": "markdown",
   "id": "b6b94aaa",
   "metadata": {},
   "source": [
    "<div class=\"alert alert-block alert-info\">\n",
    "<b>hecho</b> <a class=\"tocSkip\"></a>\n",
    "</div>"
   ]
  },
  {
   "cell_type": "markdown",
   "id": "9d312b14",
   "metadata": {
    "id": "9d312b14"
   },
   "source": [
    "### [C3] Para cada producto, ¿cuál es la proporción de las veces que se pide y que se vuelve a pedir?"
   ]
  },
  {
   "cell_type": "code",
   "execution_count": 56,
   "id": "8ae9f4b1",
   "metadata": {
    "id": "8ae9f4b1"
   },
   "outputs": [],
   "source": [
    "# Calcular la proporción de veces que un producto se pide y se vuelve a pedir\n",
    "product_purchased_ratio = order_products.groupby('product_id')['reordered'].count() / len(orders)"
   ]
  },
  {
   "cell_type": "code",
   "execution_count": 57,
   "id": "103e7fe1",
   "metadata": {
    "id": "103e7fe1"
   },
   "outputs": [],
   "source": [
    "product_reorder_ratio = order_products.groupby('product_id')['reordered'].mean()"
   ]
  },
  {
   "cell_type": "code",
   "execution_count": 58,
   "id": "social-individual",
   "metadata": {
    "id": "social-individual"
   },
   "outputs": [
    {
     "name": "stdout",
     "output_type": "stream",
     "text": [
      "            Purchase Ratio  Reorder Ratio\n",
      "product_id                               \n",
      "1                 0.000585       0.564286\n",
      "2                 0.000023       0.000000\n",
      "3                 0.000088       0.738095\n",
      "4                 0.000102       0.510204\n",
      "7                 0.000004       0.500000\n",
      "8                 0.000040       0.315789\n",
      "9                 0.000044       0.761905\n",
      "10                0.000704       0.448071\n",
      "11                0.000033       0.625000\n",
      "12                0.000086       0.390244\n",
      "13                0.000004       0.500000\n",
      "14                0.000006       0.000000\n",
      "17                0.000002       0.000000\n",
      "18                0.000031       0.533333\n",
      "19                0.000002       0.000000\n",
      "21                0.000002       0.000000\n",
      "22                0.000013       0.500000\n",
      "23                0.000307       0.380952\n",
      "24                0.000004       0.000000\n",
      "25                0.000616       0.674576\n"
     ]
    }
   ],
   "source": [
    "# Mostrar las primeras 20 filas con las proporciones de compra y repetición\n",
    "print(pd.DataFrame({'Purchase Ratio': product_purchased_ratio, 'Reorder Ratio': product_reorder_ratio}).head(20))"
   ]
  },
  {
   "cell_type": "markdown",
   "id": "I10dEIAyldcO",
   "metadata": {
    "id": "I10dEIAyldcO"
   },
   "source": [
    "* Se puede ver una diferencia en las comparaciones de la proporcion de las veces que un porducto se pide y vuelve pedir."
   ]
  },
  {
   "cell_type": "markdown",
   "id": "subject-boxing",
   "metadata": {
    "id": "subject-boxing"
   },
   "source": [
    "### [C4] Para cada cliente, ¿qué proporción de sus productos ya los había pedido?"
   ]
  },
  {
   "cell_type": "code",
   "execution_count": 59,
   "id": "medical-couple",
   "metadata": {
    "id": "medical-couple",
    "scrolled": true
   },
   "outputs": [],
   "source": [
    "# Combinar los DataFrames orders y order_products para obtener user_id en order_products\n",
    "merged_data = pd.merge(order_products, orders[['order_id', 'user_id']], on='order_id', how='left')\n",
    "\n",
    "# Calcular la proporción de productos ya pedidos por cada cliente\n",
    "customer_product_reorder_ratio = merged_data.groupby(['user_id', 'product_id'])['reordered'].mean()\n",
    "customer_reorder_ratio = customer_product_reorder_ratio.groupby('user_id').mean()"
   ]
  },
  {
   "cell_type": "code",
   "execution_count": 60,
   "id": "8892e4b4",
   "metadata": {
    "id": "8892e4b4"
   },
   "outputs": [
    {
     "name": "stdout",
     "output_type": "stream",
     "text": [
      "user_id\n",
      "2         0.020000\n",
      "4         0.000000\n",
      "5         0.666667\n",
      "6         0.000000\n",
      "7         0.923077\n",
      "            ...   \n",
      "206203    0.222222\n",
      "206206    0.676471\n",
      "206207    0.848485\n",
      "206208    0.577083\n",
      "206209    0.320000\n",
      "Name: reordered, Length: 149626, dtype: float64\n"
     ]
    }
   ],
   "source": [
    "# Mostrar las primeras filas de la proporción de repetición de pedidos por cliente\n",
    "print(customer_reorder_ratio)"
   ]
  },
  {
   "cell_type": "markdown",
   "id": "BgJSvXDsleXz",
   "metadata": {
    "id": "BgJSvXDsleXz"
   },
   "source": [
    "* Se puede ver el porcentaje de veces que a pedido productos ateriormente, en proporcion a las compras totales por cada usuario. "
   ]
  },
  {
   "cell_type": "markdown",
   "id": "876b2a6a",
   "metadata": {},
   "source": [
    " <div class=\"alert alert-block alert-success\">\n",
    "<b>Comentario del revisor</b> <a class=\"tocSkip\"></a>\n",
    "    \n",
    "Buen trabajo con los cálculos de ambas tasas.\n",
    "</div>"
   ]
  },
  {
   "cell_type": "markdown",
   "id": "92d35137",
   "metadata": {
    "id": "92d35137"
   },
   "source": [
    "### [C5] ¿Cuáles son los 20 principales artículos que las personas ponen primero en sus carritos?"
   ]
  },
  {
   "cell_type": "code",
   "execution_count": 61,
   "id": "0ae57274",
   "metadata": {
    "id": "0ae57274",
    "scrolled": true
   },
   "outputs": [],
   "source": [
    "# Obtener los productos que se añaden primero al carrito\n",
    "first_in_cart = order_products[order_products['add_to_cart_order'] == 1]"
   ]
  },
  {
   "cell_type": "code",
   "execution_count": 62,
   "id": "forty-netherlands",
   "metadata": {
    "id": "forty-netherlands",
    "scrolled": true
   },
   "outputs": [],
   "source": [
    "# Contar la frecuencia de cada producto y obtener los 20 principales\n",
    "top_first_in_cart = first_in_cart['product_id'].value_counts().head(20)"
   ]
  },
  {
   "cell_type": "code",
   "execution_count": 63,
   "id": "08e41ec2",
   "metadata": {
    "id": "08e41ec2"
   },
   "outputs": [
    {
     "name": "stdout",
     "output_type": "stream",
     "text": [
      "       product_id                 product_name\n",
      "195           196                         Soda\n",
      "5784         5785  Organic Reduced Fat 2% Milk\n",
      "12340       12341                Hass Avocados\n",
      "13175       13176       Bag of Organic Bananas\n",
      "16796       16797                 Strawberries\n",
      "19659       19660                 Spring Water\n",
      "21136       21137         Organic Strawberries\n",
      "21902       21903         Organic Baby Spinach\n",
      "22934       22935         Organic Yellow Onion\n",
      "24851       24852                       Banana\n",
      "26208       26209                        Limes\n",
      "27085       27086                  Half & Half\n",
      "27844       27845           Organic Whole Milk\n",
      "27965       27966          Organic Raspberries\n",
      "38688       38689     Organic Reduced Fat Milk\n",
      "44631       44632   Sparkling Water Grapefruit\n",
      "47208       47209         Organic Hass Avocado\n",
      "47625       47626                  Large Lemon\n",
      "47765       47766              Organic Avocado\n",
      "49234       49235          Organic Half & Half\n"
     ]
    }
   ],
   "source": [
    "# Obtener la información detallada de los productos\n",
    "top_first_in_cart_info = products[products['product_id'].isin(top_first_in_cart.index)][['product_id', 'product_name']]\n",
    "# Mostrar los resultados\n",
    "print(top_first_in_cart_info)"
   ]
  },
  {
   "cell_type": "markdown",
   "id": "28ce9872",
   "metadata": {
    "id": "28ce9872"
   },
   "source": [
    "Podemos concluir basado en los 20 primeros productos elegidos por los usuarios son:\n",
    "\n",
    "* Productos comunes de uso diario: Artículos como Soda, leche orgánica reducida en grasa, aguacates y bananas orgánicas son esenciales y comúnmente agregados primero al carrito.\n",
    "* Preferencia por productos orgánicos: La presencia de productos orgánicos como fresas y espinacas en el top 20 sugiere una preferencia por opciones saludables y orgánicas.\n",
    "* Variedad de productos frescos: La inclusión de frutas como limones y opciones frescas como aguacates indica la preferencia por alimentos frescos y saludables.\n",
    "* Inclusión de bebidas y lácteos: Artículos como agua, leche y productos lácteos también son populares al inicio de las compras.\n",
    "\n",
    "Estas observaciones proporcionan una visión rápida de las preferencias generales de compra de los usuarios."
   ]
  },
  {
   "cell_type": "markdown",
   "id": "uITbFCEoDosC",
   "metadata": {
    "id": "uITbFCEoDosC"
   },
   "source": [
    "### Conclusion general del proyecto:"
   ]
  },
  {
   "cell_type": "markdown",
   "id": "a7dfa237",
   "metadata": {
    "id": "Nk-4GS7mDwqY"
   },
   "source": [
    "Con base en los resultados obtenidos del análisis:\n",
    "\n",
    "Hora del día y Día de la semana:\n",
    "* Todos los valores en 'order_hour_of_day' son sensibles (True).(se confirma que los datos estan bien ingresados)\n",
    "* Todos los valores en 'order_dow' son sensibles (True).(se confirma que los datos estan bien ingresados)\n",
    "\n",
    "Numero de Pedidos por Día de la Semana:\n",
    "* El día con más pedidos es el lunes, seguido de martes y miércoles. El domingo y el sábado también tienen un número significativo de pedidos.\n",
    "\n",
    "Número de Pedidos por Hora del Día:\n",
    "* La mayoría de los pedidos se realizan entre las 9 am y las 4 pm, con un pico alrededor de las 10 am.\n",
    "\n",
    "Proporción de productos repetidos por producto:\n",
    "* La proporción de productos repetidos varía para diferentes productos. Por ejemplo, el producto con 'product_id' 1 tiene una proporción de repetición de aproximadamente 56.4%.\n",
    "\n",
    "Top 20 productos más populares:\n",
    "* Los productos más populares incluyen productos como 'Bone Strength Take Care', 'Vanilla Sandwich Cookies', y otros, con una proporción de repetición del 100%.\n",
    "Proporción de productos repetidos por cliente:\n",
    "* La proporción de productos repetidos varía para diferentes clientes. Algunos clientes tienen una alta proporción de productos repetidos, mientras que otros tienen una proporción más baja.\n",
    "Top 20 productos que la gente pone primero en sus carritos:\n",
    "* Los productos que la gente suele agregar primero a sus carritos incluyen artículos comunes como plátanos, aguacates orgánicos, leche orgánica, fresas orgánicas, entre otros.\n",
    "\n",
    "Estas conclusiones proporcionan información valiosa sobre los patrones de compra, preferencias y comportamientos de los clientes en la plataforma."
   ]
  },
  {
   "cell_type": "markdown",
   "id": "5ea2158b",
   "metadata": {},
   "source": [
    " <div class=\"alert alert-block alert-danger\">\n",
    "    \n",
    "# Comentarios generales\n",
    "<b>Comentario del revisor</b> <a class=\"tocSkip\"></a>\n",
    "    \n",
    "Muy buen trabajo, Bastian. Nos quedan algunos elementos por corregir. He dejado comentarios a lo largo del documento para ello.\n",
    "    \n",
    "</div>"
   ]
  },
  {
   "cell_type": "markdown",
   "id": "e4356e57",
   "metadata": {},
   "source": [
    "<div class=\"alert alert-block alert-info\">\n",
    "<b>Se han aplicado los cambios instruidos por vuestra parte, se agradece y espero poder seguir mejorando el codigo, y mis conclusiones a lo largo de este Bootcamp</b> <a class=\"tocSkip\"></a>\n",
    "</div>"
   ]
  },
  {
   "cell_type": "markdown",
   "id": "08e906fb",
   "metadata": {},
   "source": [
    " <div class=\"alert alert-block alert-success\">\n",
    "    \n",
    "# Comentarios generales\n",
    "<b>Comentario del revisor</b> <a class=\"tocSkip\"></a>\n",
    "    \n",
    "Todo corregido. Has aprobado un nuevo proyecto. ¡Felicitaciones!\n",
    "    \n",
    "</div>"
   ]
  }
 ],
 "metadata": {
  "colab": {
   "provenance": []
  },
  "kernelspec": {
   "display_name": "Python 3 (ipykernel)",
   "language": "python",
   "name": "python3"
  },
  "language_info": {
   "codemirror_mode": {
    "name": "ipython",
    "version": 3
   },
   "file_extension": ".py",
   "mimetype": "text/x-python",
   "name": "python",
   "nbconvert_exporter": "python",
   "pygments_lexer": "ipython3",
   "version": "3.9.19"
  },
  "toc": {
   "base_numbering": 1,
   "nav_menu": {},
   "number_sections": true,
   "sideBar": true,
   "skip_h1_title": true,
   "title_cell": "Table of Contents",
   "title_sidebar": "Contents",
   "toc_cell": false,
   "toc_position": {},
   "toc_section_display": true,
   "toc_window_display": false
  },
  "vscode": {
   "interpreter": {
    "hash": "01a7be9ec63e704a62cefc5fe7a4756944464ee731be31632bdf42a4cb4688cf"
   }
  }
 },
 "nbformat": 4,
 "nbformat_minor": 5
}
